{
 "metadata": {
  "name": ""
 },
 "nbformat": 3,
 "nbformat_minor": 0,
 "worksheets": [
  {
   "cells": [
    {
     "cell_type": "code",
     "collapsed": false,
     "input": [
      "from abcdCombinatorialUtils import combinations_as_lists\n",
      "import itertools"
     ],
     "language": "python",
     "metadata": {},
     "outputs": [],
     "prompt_number": 7
    },
    {
     "cell_type": "code",
     "collapsed": false,
     "input": [
      "def checkPair(a,b):\n",
      "    counts = [0] * 9;\n",
      "\n",
      "    if 6 in a:\n",
      "        if not (9 in a):\n",
      "            a = a + [9]\n",
      "    elif 9 in a:\n",
      "        a = a + [6]\n",
      "\n",
      "    if 6 in b:\n",
      "        if not (9 in b):\n",
      "            b = b + [9]\n",
      "    elif 9 in b:\n",
      "        b = b + [6]\n",
      "\n",
      "    for x in itertools.product(a,b):\n",
      "        if x in sqNoPairs:\n",
      "            counts[sqNoIndices[x]] = 1\n",
      "        if sum(counts) == 9:\n",
      "            break\n",
      "            \n",
      "            \n",
      "    return sum(counts)\n",
      "    "
     ],
     "language": "python",
     "metadata": {},
     "outputs": [],
     "prompt_number": 10
    },
    {
     "cell_type": "code",
     "collapsed": false,
     "input": [
      "sqNoStrs = [\"%02u\" % (i*i) for i in range(1,10)]\n",
      "\n",
      "sqNoPairs = map( lambda ab: (int(ab[0]) , int(ab[1])), sqNoStrs)\n",
      "\n",
      "# Doesn't matter which order a square number is presented in by the dice\n",
      "sqNoPairs = sqNoPairs + [(x[1],x[0]) for x in sqNoPairs]\n",
      "\n",
      "# A look up for the index of the ordered square numbers, 0 to 8 for the\n",
      "# 9 positive square numbers that are possible with two dice\n",
      "sqNoIndices = {}\n",
      "i = 0\n",
      "for pair in sqNoPairs:\n",
      "    ind = i % 9\n",
      "    sqNoIndices[pair] = ind\n",
      "    i = i + 1\n"
     ],
     "language": "python",
     "metadata": {},
     "outputs": [],
     "prompt_number": 11
    },
    {
     "cell_type": "code",
     "collapsed": false,
     "input": [
      "# A combination generator, gives 6 digits chosen from 0,...,9\n",
      "combGen = combinations_as_lists(10,6)\n",
      "count = 0\n",
      "prevComb = None\n",
      "for comb in combGen:\n",
      "    \n",
      "    combGen2 = combinations_as_lists(10,6,prevComb)\n",
      "    for comb2 in combGen2:\n",
      "        \n",
      "        if checkPair(comb, comb2) == 9:\n",
      "            count = count + 1\n",
      "\n",
      "    prevComb = comb\n",
      "print count"
     ],
     "language": "python",
     "metadata": {},
     "outputs": [
      {
       "output_type": "stream",
       "stream": "stdout",
       "text": [
        "1217\n"
       ]
      }
     ],
     "prompt_number": 12
    }
   ],
   "metadata": {}
  }
 ]
}