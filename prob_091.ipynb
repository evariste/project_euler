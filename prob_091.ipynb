{
 "metadata": {
  "name": ""
 },
 "nbformat": 3,
 "nbformat_minor": 0,
 "worksheets": [
  {
   "cells": [
    {
     "cell_type": "code",
     "collapsed": false,
     "input": [
      "import itertools\n",
      "import fractions as fr\n",
      "\n",
      "N = 50\n",
      "\n",
      "r = range(1,N+1)\n",
      "\n",
      "total = 0\n",
      "for ab in itertools.product(r,r):\n",
      "\n",
      "    a,b = ab[0], ab[1]\n",
      "\n",
      "    g = fr.gcd(a,b)\n",
      "    aStep = a / g\n",
      "    bStep = b / g\n",
      "    \n",
      "    a2,b2 = a,b\n",
      "    count = -1\n",
      "    while a2 >= 0 and b2 >= 0 and a2 <= N and b2 <= N:\n",
      "        count = count + 1\n",
      "        a2 = a2 + bStep\n",
      "        b2 = b2 - aStep\n",
      "        \n",
      "    total = total + count\n",
      "\n",
      "    a2,b2 = a,b\n",
      "    count = -1\n",
      "    while a2 >= 0 and b2 >= 0 and a2 <= N and b2 <= N:\n",
      "        count = count + 1\n",
      "        a2 = a2 - bStep\n",
      "        b2 = b2 + aStep\n",
      "\n",
      "    total = total + count\n",
      "\n",
      "print 3*N*N\n",
      "print total\n",
      "print 3*N*N + total\n"
     ],
     "language": "python",
     "metadata": {},
     "outputs": [
      {
       "output_type": "stream",
       "stream": "stdout",
       "text": [
        "7500\n",
        "6734\n",
        "14234\n"
       ]
      }
     ],
     "prompt_number": 14
    }
   ],
   "metadata": {}
  }
 ]
}